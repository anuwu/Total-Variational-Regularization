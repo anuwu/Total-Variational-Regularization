{
 "cells": [
  {
   "cell_type": "markdown",
   "metadata": {},
   "source": [
    "## Imports"
   ]
  },
  {
   "cell_type": "code",
   "execution_count": 1,
   "metadata": {},
   "outputs": [],
   "source": [
    "import torch\n",
    "nn = torch.nn\n",
    "optim = torch.optim\n",
    "\n",
    "import numpy as np\n",
    "import matplotlib.pyplot as plt"
   ]
  },
  {
   "cell_type": "markdown",
   "metadata": {},
   "source": [
    "## Define The Polynomial"
   ]
  },
  {
   "cell_type": "code",
   "execution_count": 2,
   "metadata": {},
   "outputs": [],
   "source": [
    "def poly1(x) :\n",
    "    \"\"\"(x^4 + x^3 - 10x^2)/20\"\"\"\n",
    "    \n",
    "    return (torch.pow(x, 4) + torch.pow(x, 3) - 10*torch.square(x))/20\n",
    "\n",
    "def add_noise(poly) :\n",
    "    ln = len(poly)\n",
    "    noise = torch.normal(0., 0.5, (ln, ))\n",
    "    return poly + noise\n",
    "\n",
    "def get_noisy_poly(poly, x) :\n",
    "    # walrus operator magic\n",
    "    return (p:=poly(x)) + add_noise(p)"
   ]
  },
  {
   "cell_type": "markdown",
   "metadata": {},
   "source": [
    "# Interval"
   ]
  },
  {
   "cell_type": "code",
   "execution_count": 3,
   "metadata": {},
   "outputs": [
    {
     "data": {
      "text/plain": [
       "[<matplotlib.lines.Line2D at 0x7f4b7e7aa3a0>]"
      ]
     },
     "execution_count": 3,
     "metadata": {},
     "output_type": "execute_result"
    },
    {
     "data": {
      "image/png": "[encoded data removed]",
      "text/plain": [
       "<Figure size 432x288 with 1 Axes>"
      ]
     },
     "metadata": {
      "needs_background": "light"
     },
     "output_type": "display_data"
    }
   ],
   "source": [
    "x = torch.linspace(-4, 4, 100)\n",
    "target = get_noisy_poly(poly1, x)\n",
    "plt.plot(x, target, 'o', markersize=1.5)"
   ]
  },
  {
   "cell_type": "markdown",
   "metadata": {},
   "source": [
    "## Model"
   ]
  },
  {
   "cell_type": "code",
   "execution_count": 4,
   "metadata": {},
   "outputs": [],
   "source": [
    "class Regress(nn.Module) :\n",
    "    def __init__(self, degree=3) :\n",
    "        torch.manual_seed(0)\n",
    "        super().__init__() \n",
    "        self.degree = degree\n",
    "        self.bias = nn.Parameter(torch.randn(size=(1,)))\n",
    "        self.weights = nn.Parameter(torch.randn(size=(degree,)))\n",
    "        \n",
    "    def forward(self, x) :\n",
    "        s = 0\n",
    "        for w, d in zip(self.weights, range(1, self.degree+1)) :\n",
    "            s += w*torch.pow(x, d)\n",
    "        return s + self.bias"
   ]
  },
  {
   "cell_type": "markdown",
   "metadata": {},
   "source": [
    "## Training Function"
   ]
  },
  {
   "cell_type": "code",
   "execution_count": 5,
   "metadata": {},
   "outputs": [],
   "source": [
    "def train(model, inp, target, reg_type=None, lr=1e-3, iters=100, print_loss=False) :\n",
    "    if reg_type is None :\n",
    "        opt = optim.SGD(model.parameters(), lr=lr)\n",
    "    else :\n",
    "        reg_string, reg_dict = reg_type\n",
    "        if reg_string == \"L2\" :\n",
    "            print(\"Here\")\n",
    "            lamb = reg_dict[\"lambda\"]\n",
    "            opt = optim.SGD(model.parameters(), lr=lr, weight_decay=lamb)\n",
    "        \n",
    "    loss_func = nn.MSELoss()\n",
    "    for i in range(iters) :\n",
    "        opt.zero_grad()\n",
    "        out = model(inp)\n",
    "        loss = loss_func(out, target)\n",
    "            \n",
    "        if print_loss : print(f\"Iter no {i+1} --> Loss = {loss}\")\n",
    "        loss.backward()\n",
    "        opt.step()"
   ]
  },
  {
   "cell_type": "markdown",
   "metadata": {},
   "source": [
    "## Initial prediction"
   ]
  },
  {
   "cell_type": "code",
   "execution_count": 13,
   "metadata": {},
   "outputs": [
    {
     "data": {
      "text/plain": [
       "<matplotlib.legend.Legend at 0x7f4b7dca2bb0>"
      ]
     },
     "execution_count": 13,
     "metadata": {},
     "output_type": "execute_result"
    },
    {
     "data": {
      "image/png": "[encoded data removed]",
      "text/plain": [
       "<Figure size 432x288 with 1 Axes>"
      ]
     },
     "metadata": {
      "needs_background": "light"
     },
     "output_type": "display_data"
    }
   ],
   "source": [
    "model = Regress()\n",
    "model.eval()\n",
    "out = model(x)\n",
    "plt.plot(x, target, 'o', markersize=1.5, label='Targets')\n",
    "plt.plot(x, out.detach().numpy(), label='Initial prediction')\n",
    "plt.legend(loc='lower right')"
   ]
  },
  {
   "cell_type": "markdown",
   "metadata": {},
   "source": [
    "## Train the model\n",
    "Uncomment/Comment lines as necessary"
   ]
  },
  {
   "cell_type": "code",
   "execution_count": 14,
   "metadata": {},
   "outputs": [
    {
     "name": "stdout",
     "output_type": "stream",
     "text": [
      "Here\n"
     ]
    }
   ],
   "source": [
    "model.train()\n",
    "\n",
    "#####################################################################\n",
    "\n",
    "# Train with simple MSE\n",
    "# train(model, x, target)\n",
    "\n",
    "# Train with MSE and L2 regularization\n",
    "reg_type = (\n",
    "    \"L2\", \n",
    "    {\"lambda\" : 1e-5}\n",
    ")\n",
    "train(model, x, target, reg_type)\n",
    "\n",
    "#####################################################################\n",
    "\n",
    "model.eval()\n",
    "\n",
    "#####################################################################\n",
    "\n",
    "# out_mse = model(x)\n",
    "out_l2 = model(x)"
   ]
  },
  {
   "cell_type": "code",
   "execution_count": 15,
   "metadata": {},
   "outputs": [
    {
     "data": {
      "text/plain": [
       "<matplotlib.legend.Legend at 0x7f4b7dc23430>"
      ]
     },
     "execution_count": 15,
     "metadata": {},
     "output_type": "execute_result"
    },
    {
     "data": {
      "image/png": "[encoded data removed]",
      "text/plain": [
       "<Figure size 432x288 with 1 Axes>"
      ]
     },
     "metadata": {
      "needs_background": "light"
     },
     "output_type": "display_data"
    }
   ],
   "source": [
    "model.eval()\n",
    "out = model(x)\n",
    "plt.plot(x, target, 'o', markersize=1.5, label='Targets')\n",
    "plt.plot(x, out.detach().numpy(), label='Final prediction')\n",
    "plt.legend(loc='lower right')"
   ]
  },
  {
   "cell_type": "markdown",
   "metadata": {},
   "source": [
    "## Compare Predictions"
   ]
  },
  {
   "cell_type": "code",
   "execution_count": 18,
   "metadata": {},
   "outputs": [
    {
     "data": {
      "text/plain": [
       "<matplotlib.legend.Legend at 0x7f4b7db431f0>"
      ]
     },
     "execution_count": 18,
     "metadata": {},
     "output_type": "execute_result"
    },
    {
     "data": {
      "image/png": "[encoded data removed]",
      "text/plain": [
       "<Figure size 432x288 with 1 Axes>"
      ]
     },
     "metadata": {
      "needs_background": "light"
     },
     "output_type": "display_data"
    }
   ],
   "source": [
    "plt.plot(x, target, 'o', markersize=1.5, label='Targets')\n",
    "plt.plot(x, out_mse.detach().numpy(), label='Simple prediction')\n",
    "plt.plot(x, out_l2.detach().numpy(), label='L2 prediction')\n",
    "plt.legend(loc='upper left')"
   ]
  }
 ],
 "metadata": {
  "kernelspec": {
   "display_name": "Python 3",
   "language": "python",
   "name": "python3"
  },
  "language_info": {
   "codemirror_mode": {
    "name": "ipython",
    "version": 3
   },
   "file_extension": ".py",
   "mimetype": "text/x-python",
   "name": "python",
   "nbconvert_exporter": "python",
   "pygments_lexer": "ipython3",
   "version": "3.8.10"
  }
 },
 "nbformat": 4,
 "nbformat_minor": 4
}
